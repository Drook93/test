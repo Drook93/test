{
 "cells": [
  {
   "cell_type": "markdown",
   "id": "affc16d2-1929-41dc-809e-a50308353174",
   "metadata": {
    "tags": []
   },
   "source": [
    "# Data Science Tools and Ecosystem\n",
    "\n"
   ]
  },
  {
   "cell_type": "markdown",
   "id": "cef7ff23-fd39-4e67-a81b-942e8071b95e",
   "metadata": {},
   "source": [
    "# In this notebook, Data Science Tools and Ecosystem are summarized."
   ]
  },
  {
   "cell_type": "markdown",
   "id": "8dcde04c-f168-476b-9144-076b2f41cf68",
   "metadata": {
    "tags": []
   },
   "source": [
    "# **Objectives:**\n",
    "- List popular languages for Data Science:\n",
    "- Some of the commonly used libraries used by Data Scientists\n",
    "- This a simple arithmetic expression to multiply then add integers\n",
    "- This will convert 200 minutes to hours by diving by 60\n",
    "- Data Science Tools"
   ]
  },
  {
   "cell_type": "markdown",
   "id": "ed0560f9-3e2a-4218-b4c1-1ece63fe2510",
   "metadata": {},
   "source": [
    "# Some of the popular languages that Data Scientists use are:\n",
    "\n",
    "1. Python\n",
    "2. R\n",
    "3. C++\n",
    "4. Java\n",
    "5. JavaScript"
   ]
  },
  {
   "cell_type": "markdown",
   "id": "d1a2f255-71e1-4d31-b023-712697779b11",
   "metadata": {},
   "source": [
    "# Some of the commonly used libraries used by Data Scientists include:\n",
    "1. Pandas\n",
    "2. Numpy\n",
    "3. Matplotlib\n",
    "4. Scikit-Learn\n",
    "5. Seaborn"
   ]
  },
  {
   "cell_type": "markdown",
   "id": "3f7bb044-299a-4c19-a146-cf93dd6aee43",
   "metadata": {
    "tags": []
   },
   "source": [
    "|Data Science Tools|\n",
    "|------------------|\n",
    "|Jupiter Notebook  |\n",
    "|Python            |\n",
    "|SQL               |"
   ]
  },
  {
   "cell_type": "markdown",
   "id": "0eb50b1e-b638-42cf-a064-ab5f8319374e",
   "metadata": {},
   "source": [
    "### Below are a few examples of evaluating arithmetic expressions in Python"
   ]
  },
  {
   "cell_type": "code",
   "execution_count": 1,
   "id": "8cbd3d38-b84c-4665-825b-f16e15a17ddf",
   "metadata": {
    "tags": []
   },
   "outputs": [
    {
     "data": {
      "text/plain": [
       "17"
      ]
     },
     "execution_count": 1,
     "metadata": {},
     "output_type": "execute_result"
    }
   ],
   "source": [
    "# This a simple arithmetic expression to mutiply then add integers\n",
    "Result = (3*4)+5\n",
    "Result"
   ]
  },
  {
   "cell_type": "code",
   "execution_count": 2,
   "id": "16b01d19-001b-4d1d-a9c8-69edb1f3bc74",
   "metadata": {
    "tags": []
   },
   "outputs": [
    {
     "data": {
      "text/plain": [
       "3.3333333333333335"
      ]
     },
     "execution_count": 2,
     "metadata": {},
     "output_type": "execute_result"
    }
   ],
   "source": [
    "# This will convert 200 minutes to hours by diving by 60\n",
    "Hours = 200/60\n",
    "Hours"
   ]
  },
  {
   "cell_type": "markdown",
   "id": "196ed681-78d3-4167-9aa1-d63bd57291ad",
   "metadata": {},
   "source": [
    "## Author\n",
    "David Rook"
   ]
  }
 ],
 "metadata": {
  "kernelspec": {
   "display_name": "Python",
   "language": "python",
   "name": "conda-env-python-py"
  },
  "language_info": {
   "codemirror_mode": {
    "name": "ipython",
    "version": 3
   },
   "file_extension": ".py",
   "mimetype": "text/x-python",
   "name": "python",
   "nbconvert_exporter": "python",
   "pygments_lexer": "ipython3",
   "version": "3.7.12"
  }
 },
 "nbformat": 4,
 "nbformat_minor": 5
}
